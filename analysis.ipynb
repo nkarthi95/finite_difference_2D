{
 "cells": [
  {
   "cell_type": "markdown",
   "id": "034f7400",
   "metadata": {},
   "source": [
    "Transport phenomena is the study of the transferring of momentum, energy and mass. Oftentimes these processes are coupled as in boiling water, where bubbles of air trapped in the water nucleate due to the elevated temperature reducing the solubility of gases, followed by the density differences between the bubble and water causing the bubble to rise. These processes are further mediated through convection currents caused by temperature gradients in the boiling water. \n",
    "\n",
    "In this example, we will look at a far simple example of energy transport, characterized as the change in temperature of a heat source placed in an infinitely large cooler surrounding region. We will assume periodic boundary conditions to overcome the limitation of finite sizes in compute and assume that the temperature in the source reduces at the same time.  (INSERT IMAGE HERE)"
   ]
  },
  {
   "cell_type": "markdown",
   "id": "7ea53476",
   "metadata": {},
   "source": [
    "# Theory"
   ]
  },
  {
   "cell_type": "markdown",
   "id": "0df08caf",
   "metadata": {},
   "source": [
    "For our problem, we will be basing our grid on rectilinear or cartesian coordinates. First, we will review the relevant transport equations. A more detailed explanation of each expression and derivation can be found in BSLK. We begin by writing a general energy transport equation through a control volume.\n",
    "\n",
    "$$ change = accumulation + removal + generation + destruction $$\n",
    "\n",
    "In our closed system, there is no generation, destruction and accumulation of energy, meaning that the change in energy over time can be written as\n",
    "\n",
    "$ change = removal$\n",
    "\n",
    "If we approximate that the energy lost from the addition of heat is lost through conduction, the removal of energy can be approximated using fourier's law, defined as \n",
    "\n",
    "$$ q = -k \\nabla T $$\n",
    "\n",
    "where $k (\\frac{W}{mK})$ is the thermal conductivity of the matrix, $\\nabla T (\\frac{K}{m})$ is the temperature gradient between the heated area and its surroundings and $q (\\frac{W}{m^2 K})$ is the heat flux through a surface. This is related to the energy change at each grid point over time as, \n",
    "\n",
    "$\\frac{d E}{dt} = \\nabla q$\n",
    "\n",
    "Where $E (\\frac{J}{m^3})$ is the energy density of a specific grid point and $t (s)$ is the time. This leads to the expression, \n",
    "\n",
    "$$ \\frac{d E}{d t} = -k \\nabla^2 T $$\n",
    "\n",
    "The energy density of the heat source can be expressed from the heat capacity of the heat source, defined as $E = \\rho c_p (T - T_{ref})$. If we make the further approximation that density $\\rho (\\frac{kg}{m^3})$ and specific heat capacity $\\frac{J}{K kg}$ stay constant with temperature, we can rearrange the above expression to obtain the following PDE written as a function of temperature exclusively,\n",
    "\n",
    "$$ \\frac{dT}{dt} = -\\frac{k}{\\rho c_p} \\nabla^2 T$$\n",
    "\n",
    "Oftentimes, the factor $\\frac{k}{\\rho c_p}$ is condensed into the term $\\alpha (\\frac{m^2}{s})$ defining the thermal diffusivity of the system and will be used as an input parameter."
   ]
  },
  {
   "cell_type": "markdown",
   "id": "ccc4e21b",
   "metadata": {},
   "source": [
    "Now that we have laid out the basic theory being implemented, we shall turn to how we can convert math to something a computer can solve. There are derivatives of time and space that we will need to solve for. I will stick to the simplest ones here as the focus is on creating an illustration how the code looks different between implementations in different languages. However, the literature of how both are done is vast with (SOURCES PROVIDED)."
   ]
  },
  {
   "cell_type": "markdown",
   "id": "bfad7348",
   "metadata": {},
   "source": [
    "## Finite difference"
   ]
  },
  {
   "cell_type": "markdown",
   "id": "cec28728",
   "metadata": {},
   "source": [
    "The simplest way to discretize a differential equation in space is using a finite difference technique. The core idea of this scheme is we convert the continous differential equations above into discrete sums and differences which we can solve. Commonly, this is done using a central difference scheme shown below for the first $f^1_x$ and second derivative $f^2_x$ for a function $f(x,y,t)$\n",
    "\n",
    "\\begin{align}\n",
    "f^1_x &= \\frac{f(x + h, y, t) - f(x - h, y, t)}{2h} \\\\\n",
    "f^2_x &= \\frac{f(x + h, y, t) - 2f(x,y,t) + f(x - h, y, t)}{h^2} \n",
    "\\end{align}\n",
    "\n",
    "Where $h$ is the spacing between grids. Central difference offers produced second order error compared to forward or backward difference which produce first order error."
   ]
  },
  {
   "cell_type": "markdown",
   "id": "d92debb4",
   "metadata": {},
   "source": [
    "## Forward Euler"
   ]
  },
  {
   "cell_type": "markdown",
   "id": "4163d82e",
   "metadata": {
    "vscode": {
     "languageId": "plaintext"
    }
   },
   "source": [
    "Next, I look at how we can integrate over time. Multiple time integration schemes exist which are split into explicit and implicit schemes. Explicit schemes include techniques such as Forward Euler and the Runge-Kutta time integrators while implicit schemes include the Backwards Euler and Crank-Nicholson schemes. For now, we will stick to the Forward Euler technique. \n",
    "\n",
    "Forward Euler solves an initial value problem by iterating a value of a variable through time using the initial value and the change in the variable through time. Notationally, this looks like\n",
    "\n",
    "\\begin{align}\n",
    "g(x, y, t_0) &= b \\\\\n",
    "\\frac{dg}{dt} &= f(x,y,t) \\\\\n",
    "g(x, y , t + \\Delta t) &= g(x, y, t) + \\Delta t \\frac{dg}{dt}\n",
    "\\end{align}\n",
    "\n",
    "where $g(x, y, t)$ is a value of a function at time $t$ and location $(x,y)$, $\\frac{dg}{dt}$ is the derivative of function $g$ with respect to time $t$ and is expressed as any function $f(x,y,t)$. The value of $g(x, y, t + \\Delta t)$ is a sum of the value of $g(x, y, t)$ and the timestep over which the derivative $\\frac{dg}{dt}$ is calculated.\n",
    "\n",
    "The Forward Euler technique can be numerically unstable. Therefore care must be taken when selecting parameters for time and space integration and must fall within the CFL condition, defined as $C = \\frac{u \\Delta t}{\\Delta x} < 1$."
   ]
  },
  {
   "cell_type": "markdown",
   "id": "bc3f7374",
   "metadata": {},
   "source": [
    "## Python implementation"
   ]
  },
  {
   "cell_type": "markdown",
   "id": "f3c55071",
   "metadata": {},
   "source": [
    "Using the established rules above, we move to generating a prototype in python. We assume the heat source places is a circle at the middle of the system with a radius that can be specified with the system containing periodic boundary conditions. "
   ]
  },
  {
   "cell_type": "code",
   "execution_count": null,
   "id": "49816396",
   "metadata": {},
   "outputs": [],
   "source": [
    "import numpy as np\n",
    "import matplotlib.pyplot as plt\n",
    "from matplotlib import animation\n",
    "from IPython.display import HTML"
   ]
  },
  {
   "cell_type": "code",
   "execution_count": null,
   "id": "09ee4abb",
   "metadata": {},
   "outputs": [],
   "source": [
    "def animate_colormap(data, axs_labels=None, times=None, c_label=None, interval=50, sz=5, cm='bwr'):\n",
    "    \"\"\"\n",
    "    Create an animation of a 2D colormap over time.\n",
    "\n",
    "    This function takes a 3D numpy array representing time-dependent 2D data and \n",
    "    generates an animated colormap. The animation can be rendered in a Jupyter \n",
    "    notebook using the :class:`IPython.display.HTML` object.\n",
    "\n",
    "    :param data: \n",
    "        A 3D array with shape (t, L, M), where t is the number of timesteps, \n",
    "        and L and M represent the dimensions of each data slice (e.g., rows and columns).\n",
    "    :type data: numpy.ndarray\n",
    "    :param axs_labels: \n",
    "        A list of length 2 containing strings for the x-axis and y-axis labels, \n",
    "        in the 0th and 1st positions respectively. Default is None.\n",
    "    :type axs_labels: list of str, optional\n",
    "    :param times: \n",
    "        A 1D array of length t, where each value represents the time corresponding \n",
    "        to each timestep. Default is None.\n",
    "    :type times: numpy.ndarray, optional\n",
    "    :param c_label: \n",
    "        A label for the colormap (color bar). Default is None.\n",
    "    :type c_label: str, optional\n",
    "    :param interval: \n",
    "        The delay in milliseconds between frames in the animation. Default is 50.\n",
    "    :type interval: int, optional\n",
    "    :param sz: \n",
    "        The size of the plot figure. Default is 5.\n",
    "    :type sz: int, optional\n",
    "    :param cm: \n",
    "        The colormap to use for the animation. Default is 'bwr'.\n",
    "    :type cm: str, optional\n",
    "\n",
    "    :return: \n",
    "        An animation object that can be rendered in a Jupyter notebook using \n",
    "        :class:`IPython.display.HTML`.\n",
    "    :rtype: matplotlib.animation.FuncAnimation\n",
    "\n",
    "    :examples:\n",
    "        >>> import numpy as np\n",
    "        >>> from IPython.display import HTML\n",
    "        >>> data = np.random.random((50, 100, 100))  # Example 3D array (50 timesteps, 100x100 grid)\n",
    "        >>> ani = animate_colormap(data, axs_labels=[\"X-axis\", \"Y-axis\"], times=np.arange(50))\n",
    "        >>> HTML(ani.to_jshtml())\n",
    "    \"\"\"\n",
    "    def init():\n",
    "        img.set_data(data[0])\n",
    "        vmin = np.amin(data[0])\n",
    "        vmax = np.amax(data[0])\n",
    "        img.set_clim(vmin, vmax)\n",
    "        if times is not None:\n",
    "            ax.set(title=f\"Time = {times[0]}\")\n",
    "        return (img,)\n",
    "\n",
    "    def update(i):\n",
    "        img.set_data(data[i])\n",
    "        vmin = np.amin(data[i])\n",
    "        vmax = np.amax(data[i])\n",
    "        img.set_clim(vmin, vmax)\n",
    "        if times is not None:\n",
    "            ax.set(title=f\"Time = {times[i]}\")\n",
    "        return (img,)\n",
    "\n",
    "    fig, ax = plt.subplots(1, 1, figsize=(sz, sz))\n",
    "    img = ax.imshow(data[0], cmap=cm, vmin=np.amin(data[0]), vmax=np.amax(data[0]))\n",
    "    if axs_labels is not None:\n",
    "        ax.set_xlabel(axs_labels[0])\n",
    "        ax.set_ylabel(axs_labels[1])\n",
    "    fig.colorbar(img, ax=ax, orientation=\"horizontal\", label=c_label, pad=0.2)\n",
    "    ani = animation.FuncAnimation(fig, update, frames=len(data), init_func=init, interval=interval, blit=True)\n",
    "    plt.close()\n",
    "    return ani"
   ]
  },
  {
   "cell_type": "code",
   "execution_count": null,
   "id": "8a713566",
   "metadata": {},
   "outputs": [],
   "source": [
    "def make_system(nx, ny, R, T_hot = 373, T_cold = 273):\n",
    "    X, Y = np.meshgrid(*[np.arange(0, nx), np.arange(0, ny)])\n",
    "    out = np.where((X - nx/2)**2 + (Y - ny/2)**2 <= R**2, T_hot, T_cold)\n",
    "    return out\n",
    "\n",
    "def FD_timestep(grid, dx, dy, dt, alpha, halo):\n",
    "    new_grid = grid.copy()\n",
    "    nx, ny = grid.shape # current shape includes the halo points on the edge of the grid\n",
    "\n",
    "    slc = np.s_[halo:nx-halo, halo:ny-halo] # array slicing for non edge slices\n",
    "    \n",
    "    # central difference scheme for laplacian in x direction for spatial integration\n",
    "    central_difference_x = (grid[halo+1:nx-halo+1, halo:ny-halo] - 2*grid[halo:nx-halo, halo:ny-halo] + grid[halo-1:nx-halo-1, halo:ny-halo])/dx**2\n",
    "    # central difference scheme for laplacian in y direction for spatial integration\n",
    "    central_difference_y = (grid[halo:nx-halo, halo+1:ny-halo+1] - 2*grid[halo:nx-halo, halo:nx-halo] + grid[halo:nx-halo, halo-1:nx-halo-1])/dy**2\n",
    "    \n",
    "    # performing forward euler for time integration for non halo regions\n",
    "    new_grid[slc] = grid[slc] + alpha*dt*(central_difference_x + central_difference_y)\n",
    "\n",
    "    return new_grid\n",
    "\n",
    "def periodic_boundary(grid, halo):\n",
    "    nx, ny = grid.shape # current shape includes the halo points on the edge of the grid\n",
    "    new_grid = grid.copy()\n",
    "\n",
    "    # periodic boundary for y direction copies the values in the other side of the 'real' region to the halo\n",
    "    new_grid[halo:halo+halo,:] = grid[nx-halo*halo:nx-halo*halo+halo, :]\n",
    "    new_grid[nx-halo*halo:nx-halo*halo+halo,:] = grid[halo:halo+halo, :]\n",
    "\n",
    "    # periodic boundary for x direction copies the values in the other side of the 'real' region to the halo\n",
    "    new_grid[:,halo:halo+halo] = grid[:,ny-halo*halo:ny-halo*halo+halo]\n",
    "    new_grid[:,ny-halo*halo:ny-halo*halo+halo] = grid[:,halo:halo+halo]\n",
    "\n",
    "    return new_grid"
   ]
  },
  {
   "cell_type": "code",
   "execution_count": null,
   "id": "0bde99d0",
   "metadata": {},
   "outputs": [],
   "source": [
    "## CHANGE THESE ##\n",
    "nx = 200 \n",
    "ny = 200\n",
    "# keep square for now (nx == ny)\n",
    "halo = 2\n",
    "R = 30\n",
    "\n",
    "timesteps = 500\n",
    "dt = 0.001\n",
    "dump_freq = 10\n",
    "\n",
    "alpha = 0.001\n",
    "T_hot = 373\n",
    "T_cold = 273\n",
    "## CHANGE THESE ##\n",
    "\n",
    "dx = 1/nx\n",
    "dy = 1/ny\n",
    "C = alpha/(min(dx, dy)**2/dt)\n",
    "convergence_crit = 1e-7\n",
    "if C > 1:\n",
    "    raise RuntimeWarning(\"CFL condition not fulfilled\")\n",
    "\n",
    "temperature_fields_time = np.empty((timesteps//dump_freq+1, nx, ny))\n",
    "times = np.empty(timesteps//dump_freq+1)\n",
    "\n",
    "grid_old = make_system(nx+2*halo, ny+2*halo, R)\n",
    "grid_new = np.empty((nx+2*halo, ny+2*halo))\n",
    "\n",
    "for time in range(0, timesteps+1):\n",
    "    if time%dump_freq == 0:\n",
    "        temperature_fields_time[time//dump_freq] = grid_old[halo:nx+halo, halo:ny+halo]\n",
    "        times[time//dump_freq] = time\n",
    "    \n",
    "    grid_new = FD_timestep(grid_old, 1, 1, dt, alpha, halo)\n",
    "    grid_new = periodic_boundary(grid_new, halo)\n",
    "\n",
    "    diff = np.mean(grid_new - grid_old)\n",
    "    if np.abs(diff) < convergence_crit:\n",
    "        temperature_fields_time[time//dump_freq + 1] = grid_new[halo:nx+halo, halo:ny+halo]\n",
    "        times[time//dump_freq+1] = time\n",
    "\n",
    "        temperature_fields_time = temperature_fields_time[:time//dump_freq + 1, :, :]\n",
    "        times = times[:time//dump_freq+1]\n",
    "        print(\"Converged\")\n",
    "        break\n",
    "\n",
    "    grid_old = grid_new.copy()"
   ]
  },
  {
   "cell_type": "code",
   "execution_count": null,
   "id": "4ae1be33",
   "metadata": {},
   "outputs": [],
   "source": [
    "ani = animate_colormap(temperature_fields_time, times = times)\n",
    "HTML(ani.to_jshtml())"
   ]
  },
  {
   "cell_type": "code",
   "execution_count": null,
   "id": "69890ec5",
   "metadata": {},
   "outputs": [],
   "source": [
    "plt.imshow(temperature_fields_time[-1])\n",
    "plt.colorbar()"
   ]
  },
  {
   "cell_type": "code",
   "execution_count": null,
   "id": "1d1c504c",
   "metadata": {},
   "outputs": [],
   "source": []
  },
  {
   "cell_type": "markdown",
   "id": "5a40aa6b",
   "metadata": {},
   "source": [
    "# Single core implementation in C++"
   ]
  },
  {
   "cell_type": "code",
   "execution_count": null,
   "id": "e0e60f16",
   "metadata": {},
   "outputs": [],
   "source": [
    "def read_data(file_path):\n",
    "    data = []\n",
    "    with open(file_path, \"r\") as f:\n",
    "        list_of_text = f.readlines()\n",
    "        for curr_line in list_of_text:\n",
    "            curr_data = [float(i) for i in curr_line.split(\",\")[:-1]]\n",
    "            data.append(curr_data)\n",
    "\n",
    "    data = np.array(data)\n",
    "\n",
    "    return data"
   ]
  },
  {
   "cell_type": "code",
   "execution_count": null,
   "id": "54e0d290",
   "metadata": {},
   "outputs": [],
   "source": []
  },
  {
   "cell_type": "markdown",
   "id": "71eb79b1",
   "metadata": {},
   "source": [
    "# Multicore (CPU) implementation in C++"
   ]
  },
  {
   "cell_type": "code",
   "execution_count": null,
   "id": "0ea982e1",
   "metadata": {},
   "outputs": [],
   "source": [
    "import numpy as np\n",
    "import matplotlib.pyplot as plt\n",
    "import glob"
   ]
  },
  {
   "cell_type": "code",
   "execution_count": null,
   "id": "14bbc4a8",
   "metadata": {},
   "outputs": [],
   "source": [
    "path = \"src\"\n",
    "data_paths = sorted(glob.glob(f\"{path}/T*.txt\"))"
   ]
  },
  {
   "cell_type": "code",
   "execution_count": null,
   "id": "e46561f2",
   "metadata": {},
   "outputs": [],
   "source": [
    "data = read_data(data_paths[-1])\n",
    "plt.imshow(data)\n",
    "plt.colorbar()"
   ]
  },
  {
   "cell_type": "code",
   "execution_count": null,
   "id": "cd93156e",
   "metadata": {},
   "outputs": [],
   "source": []
  }
 ],
 "metadata": {
  "kernelspec": {
   "display_name": "myenv",
   "language": "python",
   "name": "python3"
  },
  "language_info": {
   "codemirror_mode": {
    "name": "ipython",
    "version": 3
   },
   "file_extension": ".py",
   "mimetype": "text/x-python",
   "name": "python",
   "nbconvert_exporter": "python",
   "pygments_lexer": "ipython3",
   "version": "3.10.12"
  }
 },
 "nbformat": 4,
 "nbformat_minor": 5
}
