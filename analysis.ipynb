{
 "cells": [
  {
   "cell_type": "markdown",
   "id": "034f7400",
   "metadata": {},
   "source": [
    "Transport phenomena is the study of the transferring of momentum, energy and mass. Oftentimes these processes are coupled as in boiling water, where bubbles of air trapped in the water nucleate due to the elevated temperature reducing the solubility of gases, followed by the density differences between the bubble and water causing the bubble to rise. These processes are further mediated through convection currents caused by temperature gradients in the boiling water. \n",
    "\n",
    "In this example, we will look at a far simple example of energy transport, characterized as the change in temperature of a heat source placed in an infinitely large cooler surrounding region. We will assume periodic boundary conditions to overcome the limitation of finite sizes in compute and assume that the temperature in the source reduces at the same time.  (INSERT IMAGE HERE)"
   ]
  },
  {
   "cell_type": "markdown",
   "id": "7ea53476",
   "metadata": {},
   "source": [
    "# Theory"
   ]
  },
  {
   "cell_type": "markdown",
   "id": "0df08caf",
   "metadata": {},
   "source": [
    "For our problem, we will be basing our grid on rectilinear or cartesian coordinates. First, we will review the relevant transport equations. A more detailed explanation of each expression and derivation can be found in BSLK. We begin by writing a general energy transport equation through a control volume.\n",
    "\n",
    "$$ change = accumulation + removal + generation + destruction $$\n",
    "\n",
    "In our closed system, there is no generation, destruction and accumulation of energy, meaning that the change in energy over time can be written as\n",
    "\n",
    "$ change = removal$\n",
    "\n",
    "If we approximate that the energy lost from the addition of heat is lost through conduction, the removal of energy can be approximated using fourier's law, defined as \n",
    "\n",
    "$$ q = -k \\nabla T $$\n",
    "\n",
    "where $k (\\frac{W}{mK})$ is the thermal conductivity of the matrix, $\\nabla T (\\frac{K}{m})$ is the temperature gradient between the heated area and its surroundings and $q (\\frac{W}{m^2 K})$ is the heat flux through a surface. This is related to the energy change at each grid point over time as, \n",
    "\n",
    "$\\frac{d E}{dt} = \\nabla q$\n",
    "\n",
    "Where $E (\\frac{J}{m^3})$ is the energy density of a specific grid point and $t (s)$ is the time. This leads to the expression, \n",
    "\n",
    "$$ \\frac{d E}{d t} = -k \\nabla^2 T $$\n",
    "\n",
    "The energy density of the heat source can be expressed from the heat capacity of the heat source, defined as $E = \\rho c_p (T - T_{ref})$. If we make the further approximation that density $\\rho (\\frac{kg}{m^3})$ and specific heat capacity $\\frac{J}{K kg}$ stay constant with temperature, we can rearrange the above expression to obtain the following PDE written as a function of temperature exclusively,\n",
    "\n",
    "$$ \\frac{dT}{dt} = -\\frac{k}{\\rho c_p} \\nabla^2 T$$\n",
    "\n",
    "Oftentimes, the factor $\\frac{k}{\\rho c_p}$ is condensed into the term $\\alpha (\\frac{m^2}{s})$ defining the thermal diffusivity of the system and will be used as an input parameter."
   ]
  },
  {
   "cell_type": "markdown",
   "id": "ccc4e21b",
   "metadata": {},
   "source": [
    "Now that we have laid out the basic theory being implemented, we shall turn to how we can convert math to something a computer can solve. There are derivatives of time and space that we will need to solve for. I will stick to the simplest ones here as the focus is on creating an illustration how the code looks different between implementations in different languages. However, the literature of how both are done is vast with (SOURCES PROVIDED)."
   ]
  },
  {
   "cell_type": "markdown",
   "id": "bfad7348",
   "metadata": {},
   "source": [
    "## Finite difference"
   ]
  },
  {
   "cell_type": "markdown",
   "id": "cec28728",
   "metadata": {},
   "source": [
    "The simplest way to discretize a differential equation in space is using a finite difference technique. The core idea of this scheme is we convert the continous differential equations above into discrete sums and differences which we can solve. Commonly, this is done using a central difference scheme shown below for the first $f^1_x$ and second derivative $f^2_x$ for a function $f(x,y,t)$\n",
    "\n",
    "\\begin{align}\n",
    "f^1_x &= \\frac{f(x + \\Delta x, y, t) - f(x - \\Delta x, y, t)}{2\\Delta x} \\\\\n",
    "f^2_x &= \\frac{f(x + \\Delta x, y, t) - 2f(x,y,t) + f(x - \\Delta x, y, t)}{\\Delta x^2} \n",
    "\\end{align}\n",
    "\n",
    "Where $\\Delta x$ is the spacing between grid points. Central difference offers produced second order error compared to forward or backward difference which produce first order error."
   ]
  },
  {
   "cell_type": "markdown",
   "id": "d92debb4",
   "metadata": {},
   "source": [
    "## Forward Euler"
   ]
  },
  {
   "cell_type": "markdown",
   "id": "4163d82e",
   "metadata": {
    "vscode": {
     "languageId": "plaintext"
    }
   },
   "source": [
    "Next, I look at how we can integrate over time. Multiple time integration schemes exist which are split into explicit and implicit schemes. Explicit schemes include techniques such as Forward Euler and the Runge-Kutta time integrators while implicit schemes include the Backwards Euler and Crank-Nicholson schemes. For now, we will stick to the Forward Euler technique. \n",
    "\n",
    "Forward Euler solves an initial value problem by iterating a value of a variable through time using the initial value and the change in the variable through time. Notationally, this looks like\n",
    "\n",
    "\\begin{align}\n",
    "g(x, y, t_0) &= b \\\\\n",
    "\\frac{dg}{dt} &= f(x,y,t) \\\\\n",
    "g(x, y , t + \\Delta t) &= g(x, y, t) + \\Delta t \\frac{dg}{dt}\n",
    "\\end{align}\n",
    "\n",
    "where $g(x, y, t)$ is a value of a function at time $t$ and location $(x,y)$, $\\frac{dg}{dt}$ is the derivative of function $g$ with respect to time $t$ and is expressed as any function $f(x,y,t)$. The value of $g(x, y, t + \\Delta t)$ is a sum of the value of $g(x, y, t)$ and the timestep over which the derivative $\\frac{dg}{dt}$ is calculated.\n",
    "\n",
    "The Forward Euler technique can be numerically unstable. Therefore care must be taken when selecting parameters for time and space integration and must fall within the CFL condition, defined as $C = \\frac{u \\Delta t}{\\Delta x} < 1$. In this case as we do not have advection we will be using the CFL condition as defined from the thermal diffusivity, defined as $C = \\frac{\\alpha \\Delta t}{\\Delta x^2}$"
   ]
  },
  {
   "cell_type": "markdown",
   "id": "bc3f7374",
   "metadata": {},
   "source": [
    "## Python implementation"
   ]
  },
  {
   "cell_type": "markdown",
   "id": "f3c55071",
   "metadata": {},
   "source": [
    "Using the established rules above, we move to generating a prototype in python. We assume the heat source places is a circle at the middle of the system with a radius that can be specified with the system containing periodic boundary conditions. "
   ]
  },
  {
   "cell_type": "code",
   "execution_count": null,
   "id": "49816396",
   "metadata": {},
   "outputs": [],
   "source": [
    "import numpy as np\n",
    "import matplotlib.pyplot as plt\n",
    "from IPython.display import HTML\n",
    "import glob\n",
    "\n",
    "import analysis_src.visualization as visualize\n",
    "import analysis_src.forward_euler_1D as FD_1D\n",
    "import analysis_src.forward_euler_2D as FD_2D\n",
    "\n",
    "figheight = 5"
   ]
  },
  {
   "cell_type": "markdown",
   "id": "cf966fd5",
   "metadata": {},
   "source": [
    "We first implement the system in 1D to demonstrate the conceptual structure."
   ]
  },
  {
   "cell_type": "markdown",
   "id": "710fb941",
   "metadata": {},
   "source": [
    "### 1D version"
   ]
  },
  {
   "cell_type": "code",
   "execution_count": null,
   "id": "9b459eba",
   "metadata": {},
   "outputs": [],
   "source": [
    "## EDIT THIS ##\n",
    "L = 256\n",
    "dx = 1/L\n",
    "hot_point = 64\n",
    "halo = 1\n",
    "\n",
    "dt = 0.0002\n",
    "timesteps = 10000\n",
    "dump_freq = 100\n",
    "\n",
    "T_cold = 273\n",
    "T_hot = 280\n",
    "alpha = 0.002\n",
    "\n",
    "bc_type = FD_1D.BoundaryType.PERIODIC\n",
    "\n",
    "T_l = 275 # only does something if boundary type if set to constant_value\n",
    "T_r = 275 # only does something if boundary type if set to constant_value\n",
    "## EDIT THIS ##\n",
    "\n",
    "C = alpha/(dx**2/dt)\n",
    "if C > 1:\n",
    "    raise RuntimeWarning(\"CFL condition not fulfilled\")"
   ]
  },
  {
   "cell_type": "code",
   "execution_count": null,
   "id": "5891a639",
   "metadata": {},
   "outputs": [],
   "source": [
    "# creating data structures\n",
    "rod_old = FD_1D.make_system(L, hot_point, T_hot, T_cold)\n",
    "\n",
    "# inserting halo regions\n",
    "rod_old = np.insert(rod_old, 0, 0)\n",
    "rod_old = np.insert(rod_old, L+1, 0)\n",
    "\n",
    "rod_new = rod_old.copy()\n",
    "total_E = np.empty(timesteps + 1)\n",
    "\n",
    "output_temperatures = np.empty((timesteps//dump_freq+1, L))\n",
    "output_length = np.empty((timesteps//dump_freq+1, L))\n",
    "\n",
    "for t in range(0, timesteps + 1):\n",
    "    rod_old = FD_1D.apply_boundary(rod_old, bc_type, T_left=T_l, T_right=T_r, halo=halo)\n",
    "\n",
    "    if t%dump_freq == 0:\n",
    "        idx = t//dump_freq\n",
    "        output_temperatures[idx] = rod_old[1:L+1]\n",
    "        output_length[idx] = np.arange(0, L)\n",
    "    \n",
    "    rod_new = FD_1D.FD_timestep(rod_old, dx, dt, alpha, halo)\n",
    "\n",
    "    total_E[t] = np.sum(rod_new[1:L])\n",
    "\n",
    "    rod_old = rod_new.copy()"
   ]
  },
  {
   "cell_type": "code",
   "execution_count": null,
   "id": "184e2d54",
   "metadata": {},
   "outputs": [],
   "source": [
    "ar = 1\n",
    "fig, axs = plt.subplots(1, 2, figsize = (2*figheight*ar, figheight))\n",
    "\n",
    "ax = axs[0]\n",
    "ax.plot(total_E/total_E[0]*100)\n",
    "\n",
    "ax.set_ylabel(\"Total Energy\")\n",
    "ax.set_xlabel(\"t\"+r\"$\\Delta t$\")\n",
    "\n",
    "ax = axs[1]\n",
    "ax.plot(rod_new)\n",
    "ax.set_ylim([T_cold, T_hot])\n",
    "\n",
    "\n",
    "ax.set_ylabel(\"Temperature (K)\")\n",
    "ax.set_xlabel(\"Rod length\"+r\"$\\Delta x$\")\n",
    "\n",
    "fig.tight_layout()"
   ]
  },
  {
   "cell_type": "markdown",
   "id": "71a4cf2c",
   "metadata": {},
   "source": [
    "Left plot shows energy conservation while right plot shows the temperature profile at the final timestep. Now that we have shown a succesful implementation in 1D, lets up the difficulty somewhat and move to 2D"
   ]
  },
  {
   "cell_type": "markdown",
   "id": "9db2b2f9",
   "metadata": {},
   "source": [
    "### 2D version"
   ]
  },
  {
   "cell_type": "code",
   "execution_count": null,
   "id": "87ff8f1c",
   "metadata": {},
   "outputs": [],
   "source": [
    "## CHANGE THESE ##\n",
    "nx = 256\n",
    "ny = 256\n",
    "# keep square for now (nx == ny)\n",
    "halo = 1\n",
    "Lx = nx//4\n",
    "Ly = ny//4\n",
    "bc = FD_2D.BoundaryType.PERIODIC\n",
    "\n",
    "dt = 0.0001\n",
    "timesteps = 10000\n",
    "dump_freq = 100\n",
    "\n",
    "alpha = 0.01\n",
    "T_h = 373 # temperature of hot region\n",
    "T_c = 273 # temperature of cold region\n",
    "\n",
    "T_l = 275 # temperature of left wall\n",
    "T_r = 275 # temperature of right wall\n",
    "T_t = 275 # temperature of top wall\n",
    "T_b = 275 # temperature of bottom wall\n",
    "## CHANGE THESE ##\n",
    "\n",
    "dx = 1/nx\n",
    "dy = 1/ny\n",
    "C = alpha/(min(dx, dy)**2/dt)\n",
    "if C > 0.1:\n",
    "    raise RuntimeWarning(\"CFL condition not fulfilled\")"
   ]
  },
  {
   "cell_type": "code",
   "execution_count": null,
   "id": "0bde99d0",
   "metadata": {},
   "outputs": [],
   "source": [
    "grid_old = FD_2D.make_system_square(nx+2*halo, ny+2*halo, Lx, Ly, T_h, T_c)\n",
    "grid_new = np.empty((nx+2*halo, ny+2*halo))\n",
    "\n",
    "temperature_fields_time = np.empty((timesteps//dump_freq+1, nx, ny))\n",
    "times = np.empty(timesteps//dump_freq+1)\n",
    "total_E = np.empty(timesteps//dump_freq+1)\n",
    "\n",
    "for time in range(0, timesteps+1):\n",
    "    grid_old = FD_2D.apply_boundary(grid_old, bc, T_left=T_l, T_right=T_r, T_top = T_t, T_bottom = T_b, halo=halo)\n",
    "\n",
    "    if time%dump_freq == 0:\n",
    "        temperature_fields_time[time//dump_freq] = grid_old[halo:nx+halo, halo:ny+halo]\n",
    "        times[time//dump_freq] = time\n",
    "        total_E[time//dump_freq] = np.sum(grid_old[halo:nx-halo,halo:ny-halo])\n",
    "    \n",
    "    grid_new = FD_2D.FD_timestep(grid_old, dx, dy, dt, alpha, halo)\n",
    "\n",
    "    grid_old = grid_new.copy()"
   ]
  },
  {
   "cell_type": "code",
   "execution_count": null,
   "id": "84b213ee",
   "metadata": {},
   "outputs": [],
   "source": [
    "ar = 1.25\n",
    "fig, ar = plt.subplots(1, 1, figsize = (ar*figheight, figheight))\n",
    "plt.plot(times, total_E/total_E[0]*100, \"rx\")"
   ]
  },
  {
   "cell_type": "markdown",
   "id": "22fabe2e",
   "metadata": {},
   "source": [
    "Energy is conserved"
   ]
  },
  {
   "cell_type": "code",
   "execution_count": null,
   "id": "ca4b41df",
   "metadata": {},
   "outputs": [],
   "source": [
    "ani = visualize.animate_colormap(temperature_fields_time, times = times)\n",
    "HTML(ani.to_jshtml())"
   ]
  },
  {
   "cell_type": "markdown",
   "id": "f4d2c404",
   "metadata": {},
   "source": [
    "Animation of temperature over time"
   ]
  },
  {
   "cell_type": "markdown",
   "id": "5a40aa6b",
   "metadata": {},
   "source": [
    "# Single core implementation in C++"
   ]
  },
  {
   "cell_type": "markdown",
   "id": "497b4976",
   "metadata": {},
   "source": [
    "Now that we have the base in python, lets implement the FD technique in C++. This section will use various `std` libraries in C++ but will omit MPI at the moment. We will be using pass by reference, although pass by value to more closely align with the python code can also be done, if slower."
   ]
  },
  {
   "cell_type": "markdown",
   "id": "3fdae885",
   "metadata": {},
   "source": [
    "TODO\n",
    "\n",
    "1. [] input file with parsing\n",
    "2. [] different BC's\n",
    "3. [x] speed improvements through pass by reference"
   ]
  },
  {
   "cell_type": "code",
   "execution_count": null,
   "id": "37713753",
   "metadata": {},
   "outputs": [],
   "source": [
    "path = \"src/single_core\"\n",
    "data_paths = sorted(glob.glob(f\"{path}/T*.txt\"))\n",
    "total_E = np.empty(len(data_paths))\n",
    "times = np.empty(len(data_paths), dtype = int)\n",
    "raw_data = []\n",
    "\n",
    "for i, path in enumerate(data_paths):\n",
    "    time = int(path.split(\"/\")[-1].split(\"_\")[-1].split(\".\")[0])\n",
    "    data = visualize.read_data(path)\n",
    "\n",
    "    times[i] = time\n",
    "    raw_data.append(data)\n",
    "    total_E[i] = np.sum(data)\n",
    "\n",
    "raw_data = np.array(raw_data)"
   ]
  },
  {
   "cell_type": "code",
   "execution_count": null,
   "id": "58d713c1",
   "metadata": {},
   "outputs": [],
   "source": [
    "ar = 1.25\n",
    "fig, ax = plt.subplots(1, 1, figsize = (ar*figheight, figheight))\n",
    "\n",
    "ax.plot(times, total_E/total_E[0], 'rx')\n",
    "ax.set_ylabel(r\"$\\frac{E(t)}{E_0}$\")\n",
    "ax.set_xlabel(r\"$t \\Delta t$\")"
   ]
  },
  {
   "cell_type": "markdown",
   "id": "4b138265",
   "metadata": {},
   "source": [
    "Energy conservation"
   ]
  },
  {
   "cell_type": "code",
   "execution_count": null,
   "id": "a695328d",
   "metadata": {},
   "outputs": [],
   "source": [
    "ani = visualize.animate_colormap(raw_data, times = times)\n",
    "HTML(ani.to_jshtml())"
   ]
  },
  {
   "cell_type": "markdown",
   "id": "c9e68071",
   "metadata": {},
   "source": [
    "Simulations runs as expected"
   ]
  },
  {
   "cell_type": "markdown",
   "id": "71eb79b1",
   "metadata": {},
   "source": [
    "# Multicore (CPU) implementation in C++"
   ]
  },
  {
   "cell_type": "markdown",
   "id": "04bef19a",
   "metadata": {},
   "source": [
    "2 main ways to perform compute on multiple cores are available. They are openMP and MPI based techniques. These differ on how memory is allocated between processors, which also impacts the scalability and performance of each based on system size and allocated resources. openMP uses shared memory to remove the need for message passing but is only supported by systems that share memory. MPI supports parallel computation for systems with distributed or shared memory as each process is executes independently from one another.\n",
    "\n",
    "For personal computers, openMP offers a simple way to add parallelism without needing to resort to the extra preparation and planning needed to write and execute MPI based code at the expense of less flexibility if wanting to use HPC compute clusters such as the DoE's Frontier, Aurora or Perlmutter. \n",
    "\n",
    "Please read the source of my knowledge on this topic, the fantastic textbook \"Parallel Programming in C with MPI and OpenMP\" by Michael J. Quinn. It may be slightly outdated given its 20+ years old, but it holds great information on the topic without needing to resort to AI. "
   ]
  },
  {
   "cell_type": "markdown",
   "id": "1db76a8b",
   "metadata": {},
   "source": [
    "## OpenMP"
   ]
  },
  {
   "cell_type": "markdown",
   "id": "0e68e27c",
   "metadata": {},
   "source": [
    "This section is based on chapter 17 in the textbook \"Parallel Programming in C with MPI and OpenMP\" by Michael J. Quinn."
   ]
  },
  {
   "cell_type": "code",
   "execution_count": null,
   "id": "51229fec",
   "metadata": {},
   "outputs": [],
   "source": [
    "path = \"src/open_MP\"\n",
    "data_paths = sorted(glob.glob(f\"{path}/T*.txt\"))\n",
    "total_E = np.empty(len(data_paths))\n",
    "times = np.empty(len(data_paths), dtype = int)\n",
    "raw_data = []\n",
    "\n",
    "for i, path in enumerate(data_paths):\n",
    "    time = int(path.split(\"/\")[-1].split(\"_\")[-1].split(\".\")[0])\n",
    "    data = visualize.read_data(path)\n",
    "\n",
    "    times[i] = time\n",
    "    raw_data.append(data)\n",
    "    total_E[i] = np.sum(data)\n",
    "\n",
    "raw_data = np.array(raw_data)"
   ]
  },
  {
   "cell_type": "code",
   "execution_count": null,
   "id": "7e257d75",
   "metadata": {},
   "outputs": [],
   "source": [
    "ar = 1.25\n",
    "fig, ax = plt.subplots(1, 1, figsize = (ar*figheight, figheight))\n",
    "\n",
    "ax.plot(times, total_E/total_E[0], 'rx')\n",
    "ax.set_ylabel(r\"$\\frac{E(t)}{E_0}$\")\n",
    "ax.set_xlabel(r\"$t \\Delta t$\")"
   ]
  },
  {
   "cell_type": "markdown",
   "id": "22354610",
   "metadata": {},
   "source": [
    "Energy is converved"
   ]
  },
  {
   "cell_type": "code",
   "execution_count": null,
   "id": "356a5afb",
   "metadata": {},
   "outputs": [],
   "source": [
    "ani = visualize.animate_colormap(raw_data, times = times)\n",
    "HTML(ani.to_jshtml())"
   ]
  },
  {
   "cell_type": "markdown",
   "id": "8c0629eb",
   "metadata": {},
   "source": [
    "## OpenMPI"
   ]
  },
  {
   "cell_type": "code",
   "execution_count": null,
   "id": "cd93156e",
   "metadata": {},
   "outputs": [],
   "source": [
    "path = \"src/MPI\"\n",
    "data_paths = sorted(glob.glob(f\"{path}/T*.txt\"))\n",
    "total_E = np.empty(len(data_paths))\n",
    "times = np.empty(len(data_paths), dtype = int)\n",
    "raw_data = []\n",
    "\n",
    "for i, path in enumerate(data_paths):\n",
    "    time = int(path.split(\"/\")[-1].split(\"_\")[-1].split(\".\")[0])\n",
    "    data = visualize.read_data(path)\n",
    "\n",
    "    times[i] = time\n",
    "    raw_data.append(data)\n",
    "    total_E[i] = np.sum(data)\n",
    "\n",
    "raw_data = np.array(raw_data)"
   ]
  },
  {
   "cell_type": "code",
   "execution_count": null,
   "id": "c3fb373b",
   "metadata": {},
   "outputs": [],
   "source": [
    "ar = 1.25\n",
    "fig, ax = plt.subplots(1, 1, figsize = (ar*figheight, figheight))\n",
    "\n",
    "ax.plot(times, total_E/total_E[0], 'rx')\n",
    "ax.set_ylabel(r\"$\\frac{E(t)}{E_0}$\")\n",
    "ax.set_xlabel(r\"$t \\Delta t$\")"
   ]
  },
  {
   "cell_type": "code",
   "execution_count": null,
   "id": "8056f322",
   "metadata": {},
   "outputs": [],
   "source": [
    "ani = visualize.animate_colormap(raw_data, times = times)\n",
    "HTML(ani.to_jshtml())"
   ]
  },
  {
   "cell_type": "code",
   "execution_count": null,
   "id": "8d29bc6c",
   "metadata": {},
   "outputs": [],
   "source": []
  }
 ],
 "metadata": {
  "kernelspec": {
   "display_name": "myenv",
   "language": "python",
   "name": "python3"
  },
  "language_info": {
   "codemirror_mode": {
    "name": "ipython",
    "version": 3
   },
   "file_extension": ".py",
   "mimetype": "text/x-python",
   "name": "python",
   "nbconvert_exporter": "python",
   "pygments_lexer": "ipython3",
   "version": "3.10.12"
  }
 },
 "nbformat": 4,
 "nbformat_minor": 5
}
