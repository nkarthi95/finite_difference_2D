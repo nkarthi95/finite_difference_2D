{
 "cells": [
  {
   "cell_type": "code",
   "execution_count": null,
   "id": "0ea982e1",
   "metadata": {},
   "outputs": [],
   "source": [
    "import numpy as np\n",
    "import matplotlib.pyplot as plt\n",
    "import glob"
   ]
  },
  {
   "cell_type": "code",
   "execution_count": null,
   "id": "3b11dfa5",
   "metadata": {},
   "outputs": [],
   "source": [
    "def read_data(file_path):\n",
    "    data = []\n",
    "    with open(file_path, \"r\") as f:\n",
    "        list_of_text = f.readlines()\n",
    "        for curr_line in list_of_text:\n",
    "            curr_data = [float(i) for i in curr_line.split(\",\")[:-1]]\n",
    "            data.append(curr_data)\n",
    "\n",
    "    data = np.array(data)\n",
    "\n",
    "    return data"
   ]
  },
  {
   "cell_type": "code",
   "execution_count": null,
   "id": "14bbc4a8",
   "metadata": {},
   "outputs": [],
   "source": [
    "path = \"src\"\n",
    "data_paths = sorted(glob.glob(f\"{path}/T*.txt\"))"
   ]
  },
  {
   "cell_type": "code",
   "execution_count": null,
   "id": "e46561f2",
   "metadata": {},
   "outputs": [],
   "source": [
    "data = read_data(data_paths[-1])\n",
    "plt.imshow(data)\n",
    "plt.colorbar()"
   ]
  },
  {
   "cell_type": "code",
   "execution_count": null,
   "id": "cd93156e",
   "metadata": {},
   "outputs": [],
   "source": []
  }
 ],
 "metadata": {
  "kernelspec": {
   "display_name": "myenv",
   "language": "python",
   "name": "python3"
  },
  "language_info": {
   "codemirror_mode": {
    "name": "ipython",
    "version": 3
   },
   "file_extension": ".py",
   "mimetype": "text/x-python",
   "name": "python",
   "nbconvert_exporter": "python",
   "pygments_lexer": "ipython3",
   "version": "3.10.12"
  }
 },
 "nbformat": 4,
 "nbformat_minor": 5
}
